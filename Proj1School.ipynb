{
 "cells": [
  {
   "cell_type": "markdown",
   "metadata": {},
   "source": [
    "# Project 1:"
   ]
  },
  {
   "cell_type": "markdown",
   "metadata": {},
   "source": [
    "## Setup"
   ]
  },
  {
   "cell_type": "code",
   "execution_count": null,
   "metadata": {
    "collapsed": true
   },
   "outputs": [],
   "source": []
  },
  {
   "cell_type": "markdown",
   "metadata": {},
   "source": [
    "For this project, we will more rigorously explore data visualization and data manipulation with the School System Finances dataset."
   ]
  },
  {
   "cell_type": "code",
   "execution_count": 1,
   "metadata": {
    "collapsed": true
   },
   "outputs": [],
   "source": [
    "# removes the need to call plt.show() every time\n",
    "%matplotlib inline"
   ]
  },
  {
   "cell_type": "code",
   "execution_count": 2,
   "metadata": {
    "collapsed": false
   },
   "outputs": [],
   "source": [
    "import missingno as msno\n",
    "import seaborn as sns\n",
    "sns.set()\n",
    "import numpy as np\n",
    "import pandas as pd\n",
    "from sklearn.feature_selection import RFECV\n",
    "from sklearn.linear_model import LinearRegression"
   ]
  },
  {
   "cell_type": "markdown",
   "metadata": {},
   "source": [
    "## Getting to know the dataset"
   ]
  },
  {
   "cell_type": "markdown",
   "metadata": {},
   "source": [
    "First we load the `elsec15` dataset. The original dataset consisted of 2 separate sheets. The second sheet provided no useful data to process. It had three rows and 3 columns describing the date that the file was created. Therefore, we deleted the sheet. "
   ]
  },
  {
   "cell_type": "code",
   "execution_count": 7,
   "metadata": {
    "collapsed": false
   },
   "outputs": [
    {
     "name": "stderr",
     "output_type": "stream",
     "text": [
      "/home/porrster/home/porrster/Documents/anaconda2/envs/universe/lib/python3.5/site-packages/IPython/core/interactiveshell.py:2717: DtypeWarning: Columns (7) have mixed types. Specify dtype option on import or set low_memory=False.\n",
      "  interactivity=interactivity, compiler=compiler, result=result)\n"
     ]
    },
    {
     "data": {
      "text/plain": [
       "(14376, 141)"
      ]
     },
     "execution_count": 7,
     "metadata": {},
     "output_type": "execute_result"
    }
   ],
   "source": [
    "school = pd.read_csv(\"elsec15.csv\")\n",
    "school.shape"
   ]
  },
  {
   "cell_type": "markdown",
   "metadata": {},
   "source": [
    "We will now obtain a quick overview and some statistics on the dataset."
   ]
  },
  {
   "cell_type": "code",
   "execution_count": 11,
   "metadata": {
    "collapsed": false
   },
   "outputs": [
    {
     "data": {
      "text/html": [
       "<div>\n",
       "<table border=\"1\" class=\"dataframe\">\n",
       "  <thead>\n",
       "    <tr style=\"text-align: right;\">\n",
       "      <th></th>\n",
       "      <th>STATE</th>\n",
       "      <th>IDCENSUS</th>\n",
       "      <th>CONUM</th>\n",
       "      <th>SCHLEV</th>\n",
       "      <th>YRDATA</th>\n",
       "      <th>V33</th>\n",
       "      <th>TOTALREV</th>\n",
       "      <th>TFEDREV</th>\n",
       "      <th>C14</th>\n",
       "      <th>C15</th>\n",
       "      <th>...</th>\n",
       "      <th>V32</th>\n",
       "      <th>_19H</th>\n",
       "      <th>_21F</th>\n",
       "      <th>_31F</th>\n",
       "      <th>_41F</th>\n",
       "      <th>_61V</th>\n",
       "      <th>_66V</th>\n",
       "      <th>W01</th>\n",
       "      <th>W31</th>\n",
       "      <th>W61</th>\n",
       "    </tr>\n",
       "  </thead>\n",
       "  <tbody>\n",
       "    <tr>\n",
       "      <th>count</th>\n",
       "      <td>14376.000000</td>\n",
       "      <td>1.437600e+04</td>\n",
       "      <td>14376.000000</td>\n",
       "      <td>14376.000000</td>\n",
       "      <td>14376.0</td>\n",
       "      <td>14376.000000</td>\n",
       "      <td>1.437600e+04</td>\n",
       "      <td>1.437600e+04</td>\n",
       "      <td>14376.000000</td>\n",
       "      <td>14376.000000</td>\n",
       "      <td>...</td>\n",
       "      <td>14376.000000</td>\n",
       "      <td>1.437600e+04</td>\n",
       "      <td>1.437600e+04</td>\n",
       "      <td>14376.000000</td>\n",
       "      <td>1.437600e+04</td>\n",
       "      <td>14376.000000</td>\n",
       "      <td>14376.000000</td>\n",
       "      <td>14376.000000</td>\n",
       "      <td>14376.000000</td>\n",
       "      <td>1.437600e+04</td>\n",
       "    </tr>\n",
       "    <tr>\n",
       "      <th>mean</th>\n",
       "      <td>26.801336</td>\n",
       "      <td>2.728090e+13</td>\n",
       "      <td>29838.158598</td>\n",
       "      <td>2.883139</td>\n",
       "      <td>15.0</td>\n",
       "      <td>3374.682526</td>\n",
       "      <td>4.546951e+04</td>\n",
       "      <td>3.708038e+03</td>\n",
       "      <td>915.914858</td>\n",
       "      <td>752.781093</td>\n",
       "      <td>...</td>\n",
       "      <td>7.318656</td>\n",
       "      <td>2.871850e+04</td>\n",
       "      <td>4.831726e+03</td>\n",
       "      <td>3936.853158</td>\n",
       "      <td>2.957606e+04</td>\n",
       "      <td>487.162354</td>\n",
       "      <td>553.761547</td>\n",
       "      <td>1335.636825</td>\n",
       "      <td>3710.651920</td>\n",
       "      <td>9.091542e+03</td>\n",
       "    </tr>\n",
       "    <tr>\n",
       "      <th>std</th>\n",
       "      <td>13.894331</td>\n",
       "      <td>1.389514e+13</td>\n",
       "      <td>14753.492121</td>\n",
       "      <td>1.271649</td>\n",
       "      <td>0.0</td>\n",
       "      <td>14419.737037</td>\n",
       "      <td>2.590623e+05</td>\n",
       "      <td>2.021328e+04</td>\n",
       "      <td>5972.748111</td>\n",
       "      <td>3619.184513</td>\n",
       "      <td>...</td>\n",
       "      <td>122.649299</td>\n",
       "      <td>1.841763e+05</td>\n",
       "      <td>2.652979e+04</td>\n",
       "      <td>20071.591744</td>\n",
       "      <td>1.894224e+05</td>\n",
       "      <td>3555.988118</td>\n",
       "      <td>6968.740454</td>\n",
       "      <td>10651.097318</td>\n",
       "      <td>20183.852905</td>\n",
       "      <td>3.261580e+04</td>\n",
       "    </tr>\n",
       "    <tr>\n",
       "      <th>min</th>\n",
       "      <td>1.000000</td>\n",
       "      <td>1.500100e+12</td>\n",
       "      <td>1001.000000</td>\n",
       "      <td>1.000000</td>\n",
       "      <td>15.0</td>\n",
       "      <td>0.000000</td>\n",
       "      <td>0.000000e+00</td>\n",
       "      <td>0.000000e+00</td>\n",
       "      <td>0.000000</td>\n",
       "      <td>0.000000</td>\n",
       "      <td>...</td>\n",
       "      <td>0.000000</td>\n",
       "      <td>0.000000e+00</td>\n",
       "      <td>0.000000e+00</td>\n",
       "      <td>0.000000</td>\n",
       "      <td>0.000000e+00</td>\n",
       "      <td>0.000000</td>\n",
       "      <td>0.000000</td>\n",
       "      <td>0.000000</td>\n",
       "      <td>0.000000</td>\n",
       "      <td>0.000000e+00</td>\n",
       "    </tr>\n",
       "    <tr>\n",
       "      <th>25%</th>\n",
       "      <td>15.000000</td>\n",
       "      <td>1.550327e+13</td>\n",
       "      <td>18063.000000</td>\n",
       "      <td>3.000000</td>\n",
       "      <td>15.0</td>\n",
       "      <td>305.000000</td>\n",
       "      <td>5.241500e+03</td>\n",
       "      <td>2.920000e+02</td>\n",
       "      <td>54.000000</td>\n",
       "      <td>0.000000</td>\n",
       "      <td>...</td>\n",
       "      <td>0.000000</td>\n",
       "      <td>8.400000e+01</td>\n",
       "      <td>0.000000e+00</td>\n",
       "      <td>5.000000</td>\n",
       "      <td>7.150000e+01</td>\n",
       "      <td>0.000000</td>\n",
       "      <td>0.000000</td>\n",
       "      <td>0.000000</td>\n",
       "      <td>0.000000</td>\n",
       "      <td>8.350000e+02</td>\n",
       "    </tr>\n",
       "    <tr>\n",
       "      <th>50%</th>\n",
       "      <td>27.000000</td>\n",
       "      <td>2.750320e+13</td>\n",
       "      <td>30063.000000</td>\n",
       "      <td>3.000000</td>\n",
       "      <td>15.0</td>\n",
       "      <td>979.500000</td>\n",
       "      <td>1.402300e+04</td>\n",
       "      <td>8.470000e+02</td>\n",
       "      <td>180.000000</td>\n",
       "      <td>118.000000</td>\n",
       "      <td>...</td>\n",
       "      <td>0.000000</td>\n",
       "      <td>4.034000e+03</td>\n",
       "      <td>0.000000e+00</td>\n",
       "      <td>410.000000</td>\n",
       "      <td>4.143500e+03</td>\n",
       "      <td>0.000000</td>\n",
       "      <td>0.000000</td>\n",
       "      <td>0.000000</td>\n",
       "      <td>0.000000</td>\n",
       "      <td>2.708500e+03</td>\n",
       "    </tr>\n",
       "    <tr>\n",
       "      <th>75%</th>\n",
       "      <td>38.000000</td>\n",
       "      <td>3.850053e+13</td>\n",
       "      <td>41009.000000</td>\n",
       "      <td>3.000000</td>\n",
       "      <td>15.0</td>\n",
       "      <td>2744.250000</td>\n",
       "      <td>3.791375e+04</td>\n",
       "      <td>2.433500e+03</td>\n",
       "      <td>545.250000</td>\n",
       "      <td>532.000000</td>\n",
       "      <td>...</td>\n",
       "      <td>0.000000</td>\n",
       "      <td>1.866350e+04</td>\n",
       "      <td>3.030000e+02</td>\n",
       "      <td>1845.000000</td>\n",
       "      <td>1.912600e+04</td>\n",
       "      <td>0.000000</td>\n",
       "      <td>0.000000</td>\n",
       "      <td>491.000000</td>\n",
       "      <td>626.250000</td>\n",
       "      <td>7.567500e+03</td>\n",
       "    </tr>\n",
       "    <tr>\n",
       "      <th>max</th>\n",
       "      <td>51.000000</td>\n",
       "      <td>5.150230e+13</td>\n",
       "      <td>56045.000000</td>\n",
       "      <td>7.000000</td>\n",
       "      <td>15.0</td>\n",
       "      <td>995192.000000</td>\n",
       "      <td>2.543738e+07</td>\n",
       "      <td>1.307783e+06</td>\n",
       "      <td>379531.000000</td>\n",
       "      <td>248209.000000</td>\n",
       "      <td>...</td>\n",
       "      <td>7753.000000</td>\n",
       "      <td>1.372802e+07</td>\n",
       "      <td>1.312286e+06</td>\n",
       "      <td>731854.000000</td>\n",
       "      <td>1.447108e+07</td>\n",
       "      <td>173300.000000</td>\n",
       "      <td>700000.000000</td>\n",
       "      <td>869643.000000</td>\n",
       "      <td>885058.000000</td>\n",
       "      <td>2.355662e+06</td>\n",
       "    </tr>\n",
       "  </tbody>\n",
       "</table>\n",
       "<p>8 rows × 137 columns</p>\n",
       "</div>"
      ],
      "text/plain": [
       "              STATE      IDCENSUS         CONUM        SCHLEV   YRDATA  \\\n",
       "count  14376.000000  1.437600e+04  14376.000000  14376.000000  14376.0   \n",
       "mean      26.801336  2.728090e+13  29838.158598      2.883139     15.0   \n",
       "std       13.894331  1.389514e+13  14753.492121      1.271649      0.0   \n",
       "min        1.000000  1.500100e+12   1001.000000      1.000000     15.0   \n",
       "25%       15.000000  1.550327e+13  18063.000000      3.000000     15.0   \n",
       "50%       27.000000  2.750320e+13  30063.000000      3.000000     15.0   \n",
       "75%       38.000000  3.850053e+13  41009.000000      3.000000     15.0   \n",
       "max       51.000000  5.150230e+13  56045.000000      7.000000     15.0   \n",
       "\n",
       "                 V33      TOTALREV       TFEDREV            C14  \\\n",
       "count   14376.000000  1.437600e+04  1.437600e+04   14376.000000   \n",
       "mean     3374.682526  4.546951e+04  3.708038e+03     915.914858   \n",
       "std     14419.737037  2.590623e+05  2.021328e+04    5972.748111   \n",
       "min         0.000000  0.000000e+00  0.000000e+00       0.000000   \n",
       "25%       305.000000  5.241500e+03  2.920000e+02      54.000000   \n",
       "50%       979.500000  1.402300e+04  8.470000e+02     180.000000   \n",
       "75%      2744.250000  3.791375e+04  2.433500e+03     545.250000   \n",
       "max    995192.000000  2.543738e+07  1.307783e+06  379531.000000   \n",
       "\n",
       "                 C15      ...                V32          _19H          _21F  \\\n",
       "count   14376.000000      ...       14376.000000  1.437600e+04  1.437600e+04   \n",
       "mean      752.781093      ...           7.318656  2.871850e+04  4.831726e+03   \n",
       "std      3619.184513      ...         122.649299  1.841763e+05  2.652979e+04   \n",
       "min         0.000000      ...           0.000000  0.000000e+00  0.000000e+00   \n",
       "25%         0.000000      ...           0.000000  8.400000e+01  0.000000e+00   \n",
       "50%       118.000000      ...           0.000000  4.034000e+03  0.000000e+00   \n",
       "75%       532.000000      ...           0.000000  1.866350e+04  3.030000e+02   \n",
       "max    248209.000000      ...        7753.000000  1.372802e+07  1.312286e+06   \n",
       "\n",
       "                _31F          _41F           _61V           _66V  \\\n",
       "count   14376.000000  1.437600e+04   14376.000000   14376.000000   \n",
       "mean     3936.853158  2.957606e+04     487.162354     553.761547   \n",
       "std     20071.591744  1.894224e+05    3555.988118    6968.740454   \n",
       "min         0.000000  0.000000e+00       0.000000       0.000000   \n",
       "25%         5.000000  7.150000e+01       0.000000       0.000000   \n",
       "50%       410.000000  4.143500e+03       0.000000       0.000000   \n",
       "75%      1845.000000  1.912600e+04       0.000000       0.000000   \n",
       "max    731854.000000  1.447108e+07  173300.000000  700000.000000   \n",
       "\n",
       "                 W01            W31           W61  \n",
       "count   14376.000000   14376.000000  1.437600e+04  \n",
       "mean     1335.636825    3710.651920  9.091542e+03  \n",
       "std     10651.097318   20183.852905  3.261580e+04  \n",
       "min         0.000000       0.000000  0.000000e+00  \n",
       "25%         0.000000       0.000000  8.350000e+02  \n",
       "50%         0.000000       0.000000  2.708500e+03  \n",
       "75%       491.000000     626.250000  7.567500e+03  \n",
       "max    869643.000000  885058.000000  2.355662e+06  \n",
       "\n",
       "[8 rows x 137 columns]"
      ]
     },
     "execution_count": 11,
     "metadata": {},
     "output_type": "execute_result"
    }
   ],
   "source": [
    "school.describe()"
   ]
  },
  {
   "cell_type": "markdown",
   "metadata": {},
   "source": [
    "Now that we have an overview of our dataset, we will move on by cleaning it."
   ]
  },
  {
   "cell_type": "code",
   "execution_count": 4,
   "metadata": {
    "collapsed": false
   },
   "outputs": [
    {
     "data": {
      "text/html": [
       "<div>\n",
       "<style>\n",
       "    .dataframe thead tr:only-child th {\n",
       "        text-align: right;\n",
       "    }\n",
       "\n",
       "    .dataframe thead th {\n",
       "        text-align: left;\n",
       "    }\n",
       "\n",
       "    .dataframe tbody tr th {\n",
       "        vertical-align: top;\n",
       "    }\n",
       "</style>\n",
       "<table border=\"1\" class=\"dataframe\">\n",
       "  <thead>\n",
       "    <tr style=\"text-align: right;\">\n",
       "      <th></th>\n",
       "      <th>STATE</th>\n",
       "      <th>IDCENSUS</th>\n",
       "      <th>NAME</th>\n",
       "      <th>SCHLEV</th>\n",
       "      <th>NCESID</th>\n",
       "      <th>YRDATA</th>\n",
       "      <th>TOTALREV</th>\n",
       "      <th>TFEDREV</th>\n",
       "      <th>TSTREV</th>\n",
       "      <th>TLOCREV</th>\n",
       "      <th>TOTALEXP</th>\n",
       "      <th>TCURELSC</th>\n",
       "      <th>TCURINST</th>\n",
       "      <th>TCURSSVC</th>\n",
       "      <th>TCUROTH</th>\n",
       "      <th>NONELSEC</th>\n",
       "      <th>TCAPOUT</th>\n",
       "    </tr>\n",
       "  </thead>\n",
       "  <tbody>\n",
       "    <tr>\n",
       "      <th>0</th>\n",
       "      <td>1</td>\n",
       "      <td>1500100100000</td>\n",
       "      <td>AUTAUGA COUNTY SCHOOL DISTRICT</td>\n",
       "      <td>3</td>\n",
       "      <td>0100240</td>\n",
       "      <td>15</td>\n",
       "      <td>79665</td>\n",
       "      <td>7574</td>\n",
       "      <td>53244</td>\n",
       "      <td>18847</td>\n",
       "      <td>76069</td>\n",
       "      <td>72872</td>\n",
       "      <td>44085</td>\n",
       "      <td>23217</td>\n",
       "      <td>5570</td>\n",
       "      <td>1010</td>\n",
       "      <td>691</td>\n",
       "    </tr>\n",
       "    <tr>\n",
       "      <th>1</th>\n",
       "      <td>1</td>\n",
       "      <td>1500200100000</td>\n",
       "      <td>BALDWIN COUNTY SCHOOL DISTRICT</td>\n",
       "      <td>3</td>\n",
       "      <td>0100270</td>\n",
       "      <td>15</td>\n",
       "      <td>330317</td>\n",
       "      <td>23602</td>\n",
       "      <td>143282</td>\n",
       "      <td>163433</td>\n",
       "      <td>297083</td>\n",
       "      <td>269928</td>\n",
       "      <td>155668</td>\n",
       "      <td>99682</td>\n",
       "      <td>14578</td>\n",
       "      <td>4957</td>\n",
       "      <td>13256</td>\n",
       "    </tr>\n",
       "    <tr>\n",
       "      <th>2</th>\n",
       "      <td>1</td>\n",
       "      <td>1500300100000</td>\n",
       "      <td>BARBOUR COUNTY SCHOOL DISTRICT</td>\n",
       "      <td>3</td>\n",
       "      <td>0100300</td>\n",
       "      <td>15</td>\n",
       "      <td>10519</td>\n",
       "      <td>2518</td>\n",
       "      <td>5632</td>\n",
       "      <td>2369</td>\n",
       "      <td>10314</td>\n",
       "      <td>9957</td>\n",
       "      <td>5249</td>\n",
       "      <td>3835</td>\n",
       "      <td>873</td>\n",
       "      <td>145</td>\n",
       "      <td>0</td>\n",
       "    </tr>\n",
       "    <tr>\n",
       "      <th>3</th>\n",
       "      <td>1</td>\n",
       "      <td>1500300200000</td>\n",
       "      <td>EUFAULA CITY SCHOOL DISTRICT</td>\n",
       "      <td>3</td>\n",
       "      <td>0101410</td>\n",
       "      <td>15</td>\n",
       "      <td>26076</td>\n",
       "      <td>3374</td>\n",
       "      <td>16048</td>\n",
       "      <td>6654</td>\n",
       "      <td>25602</td>\n",
       "      <td>24232</td>\n",
       "      <td>14887</td>\n",
       "      <td>7494</td>\n",
       "      <td>1851</td>\n",
       "      <td>333</td>\n",
       "      <td>990</td>\n",
       "    </tr>\n",
       "    <tr>\n",
       "      <th>4</th>\n",
       "      <td>1</td>\n",
       "      <td>1500400100000</td>\n",
       "      <td>BIBB COUNTY SCHOOL DISTRICT</td>\n",
       "      <td>3</td>\n",
       "      <td>0100360</td>\n",
       "      <td>15</td>\n",
       "      <td>31825</td>\n",
       "      <td>3586</td>\n",
       "      <td>21687</td>\n",
       "      <td>6552</td>\n",
       "      <td>31293</td>\n",
       "      <td>29133</td>\n",
       "      <td>16019</td>\n",
       "      <td>10822</td>\n",
       "      <td>2292</td>\n",
       "      <td>658</td>\n",
       "      <td>858</td>\n",
       "    </tr>\n",
       "  </tbody>\n",
       "</table>\n",
       "</div>"
      ],
      "text/plain": [
       "   STATE       IDCENSUS                            NAME  SCHLEV   NCESID  \\\n",
       "0      1  1500100100000  AUTAUGA COUNTY SCHOOL DISTRICT       3  0100240   \n",
       "1      1  1500200100000  BALDWIN COUNTY SCHOOL DISTRICT       3  0100270   \n",
       "2      1  1500300100000  BARBOUR COUNTY SCHOOL DISTRICT       3  0100300   \n",
       "3      1  1500300200000    EUFAULA CITY SCHOOL DISTRICT       3  0101410   \n",
       "4      1  1500400100000     BIBB COUNTY SCHOOL DISTRICT       3  0100360   \n",
       "\n",
       "   YRDATA  TOTALREV  TFEDREV  TSTREV  TLOCREV  TOTALEXP  TCURELSC  TCURINST  \\\n",
       "0      15     79665     7574   53244    18847     76069     72872     44085   \n",
       "1      15    330317    23602  143282   163433    297083    269928    155668   \n",
       "2      15     10519     2518    5632     2369     10314      9957      5249   \n",
       "3      15     26076     3374   16048     6654     25602     24232     14887   \n",
       "4      15     31825     3586   21687     6552     31293     29133     16019   \n",
       "\n",
       "   TCURSSVC  TCUROTH  NONELSEC  TCAPOUT  \n",
       "0     23217     5570      1010      691  \n",
       "1     99682    14578      4957    13256  \n",
       "2      3835      873       145        0  \n",
       "3      7494     1851       333      990  \n",
       "4     10822     2292       658      858  "
      ]
     },
     "execution_count": 4,
     "metadata": {},
     "output_type": "execute_result"
    }
   ],
   "source": [
    "school_clean = school[['STATE', 'IDCENSUS', 'NAME', 'SCHLEV', 'NCESID', 'YRDATA', 'TOTALREV', 'TFEDREV', 'TSTREV',\n",
    "                       'TLOCREV', 'TOTALEXP', 'TCURELSC', 'TCURINST', 'TCURSSVC', 'TCUROTH', 'NONELSEC', 'TCAPOUT']]\n",
    "school_clean.head()"
   ]
  },
  {
   "cell_type": "markdown",
   "metadata": {},
   "source": [
    "We now check for any columns with missing values:"
   ]
  },
  {
   "cell_type": "code",
   "execution_count": 6,
   "metadata": {
    "collapsed": false
   },
   "outputs": [
    {
     "name": "stdout",
     "output_type": "stream",
     "text": [
      "(14376, 17)\n"
     ]
    }
   ],
   "source": [
    "[col for col in school_clean.columns if school_clean[col].isnull().any()]\n",
    "print(school_clean.shape)"
   ]
  },
  {
   "cell_type": "markdown",
   "metadata": {},
   "source": [
    "Since the code above returned an empty list, we now know that the school_clean dataframe has no columns with missing values. In other words, we have a complete dataframe."
   ]
  },
  {
   "cell_type": "markdown",
   "metadata": {},
   "source": [
    "## Intro to Seaborn"
   ]
  },
  {
   "cell_type": "markdown",
   "metadata": {},
   "source": [
    "There are 2 types of data in any dataset: categorial and numerical data. We will first explore categorical data."
   ]
  },
  {
   "cell_type": "markdown",
   "metadata": {},
   "source": [
    "One really easy way to show categorical data is through bar plots. Let's explore how to make some in seaborn.\n",
    "We want to investigate the difference in rates at which males vs females survived the accident. Using the [documentation here](https://seaborn.pydata.org/generated/seaborn.barplot.html) and [example here](http://seaborn.pydata.org/examples/color_palettes.html), create a `barplot` to depict this. It should be a really simple one-liner."
   ]
  },
  {
   "cell_type": "code",
   "execution_count": 39,
   "metadata": {
    "collapsed": false,
    "scrolled": true
   },
   "outputs": [
    {
     "data": {
      "text/plain": [
       "<matplotlib.axes._subplots.AxesSubplot at 0x12f07a898>"
      ]
     },
     "execution_count": 39,
     "metadata": {},
     "output_type": "execute_result"
    },
    {
     "data": {
      "image/png": "[encoded data removed]",
      "text/plain": [
       "<matplotlib.figure.Figure at 0x12f07e358>"
      ]
     },
     "metadata": {},
     "output_type": "display_data"
    }
   ],
   "source": [
    "sns.barplot(x=\"sex\", y=\"survived\", data=titanic)"
   ]
  },
  {
   "cell_type": "markdown",
   "metadata": {},
   "source": [
    "Notice how it was so easy to create the plot! You simply passed in the entire dataset, and just specified the `x` and `y` fields that you wanted exposed for the barplot. Behind the scenes seaborn ignored `NaN` values for you and automatically calculated the survival rate to plot. Also, that black tick is a 95% confidence interval that seaborn plots."
   ]
  },
  {
   "cell_type": "markdown",
   "metadata": {},
   "source": [
    "So we see that females were much more likely to make it out alive. What other factors do you think could have an impact on surival rate? Plot a couple more barplots below. Make sure to use *categorical* values like `sex` used above, not something numerical like age or fare."
   ]
  },
  {
   "cell_type": "code",
   "execution_count": 40,
   "metadata": {
    "collapsed": false
   },
   "outputs": [
    {
     "data": {
      "text/plain": [
       "<matplotlib.axes._subplots.AxesSubplot at 0x10f910e10>"
      ]
     },
     "execution_count": 40,
     "metadata": {},
     "output_type": "execute_result"
    },
    {
     "data": {
      "image/png": "[encoded data removed]",
      "text/plain": [
       "<matplotlib.figure.Figure at 0x226a2e438>"
      ]
     },
     "metadata": {},
     "output_type": "display_data"
    }
   ],
   "source": [
    "sns.barplot(x= \"class\", y= \"survived\", hue= \"sex\", data= titanic)"
   ]
  },
  {
   "cell_type": "code",
   "execution_count": 41,
   "metadata": {
    "collapsed": false
   },
   "outputs": [
    {
     "data": {
      "text/plain": [
       "<matplotlib.axes._subplots.AxesSubplot at 0x18c08d780>"
      ]
     },
     "execution_count": 41,
     "metadata": {},
     "output_type": "execute_result"
    },
    {
     "data": {
      "image/png": "[encoded data removed]",
      "text/plain": [
       "<matplotlib.figure.Figure at 0x226b2cef0>"
      ]
     },
     "metadata": {},
     "output_type": "display_data"
    }
   ],
   "source": [
    "sns.barplot(x= \"embark_town\", y= \"survived\", hue=\"sex\", data= titanic)"
   ]
  },
  {
   "cell_type": "markdown",
   "metadata": {},
   "source": [
    "What if we wanted to add a further sex breakdown for the categories chosen above? Go back and add a `hue` parameter for `sex` for the couple plots you just created, and seaborn will split each bar into a male/female comparison."
   ]
  },
  {
   "cell_type": "markdown",
   "metadata": {},
   "source": [
    "Now we want to compare the embarking town vs the age of the individuals. We don't simply want to use a barplot, since that will just give the average age; rather, we would like more insight into the relative and numeric *distribution* of ages."
   ]
  },
  {
   "cell_type": "markdown",
   "metadata": {},
   "source": [
    "A good tool to help us here is [`swarmplot`](https://seaborn.pydata.org/generated/seaborn.swarmplot.html). Use this function to view `embark_town` vs `age`, again using `sex` as the `hue`."
   ]
  },
  {
   "cell_type": "code",
   "execution_count": 42,
   "metadata": {
    "collapsed": false
   },
   "outputs": [
    {
     "data": {
      "text/plain": [
       "<matplotlib.axes._subplots.AxesSubplot at 0x12dc20ba8>"
      ]
     },
     "execution_count": 42,
     "metadata": {},
     "output_type": "execute_result"
    },
    {
     "name": "stderr",
     "output_type": "stream",
     "text": [
      "/Users/Aakarsh/anaconda3/lib/python3.4/site-packages/matplotlib/collections.py:590: FutureWarning: elementwise comparison failed; returning scalar instead, but in the future will perform elementwise comparison\n",
      "  if self._edgecolors == str('face'):\n"
     ]
    },
    {
     "data": {
      "image/png": "[encoded data removed]",
      "text/plain": [
       "<matplotlib.figure.Figure at 0x226f01400>"
      ]
     },
     "metadata": {},
     "output_type": "display_data"
    }
   ],
   "source": [
    "sns.swarmplot(x=\"embark_town\", y=\"age\", hue=\"sex\", data=titanic)"
   ]
  },
  {
   "cell_type": "markdown",
   "metadata": {},
   "source": [
    "Cool! This gives us much more information. What if we didn't care about the number of individuals in each category at all, but rather just wanted to see the *distribution* in each category? [`violinplot`](https://seaborn.pydata.org/generated/seaborn.violinplot.html) plots a density distribution. Plot that."
   ]
  },
  {
   "cell_type": "code",
   "execution_count": 43,
   "metadata": {
    "collapsed": false
   },
   "outputs": [
    {
     "data": {
      "text/plain": [
       "<matplotlib.axes._subplots.AxesSubplot at 0x226b97e80>"
      ]
     },
     "execution_count": 43,
     "metadata": {},
     "output_type": "execute_result"
    },
    {
     "name": "stderr",
     "output_type": "stream",
     "text": [
      "/Users/Aakarsh/anaconda3/lib/python3.4/site-packages/matplotlib/collections.py:590: FutureWarning: elementwise comparison failed; returning scalar instead, but in the future will perform elementwise comparison\n",
      "  if self._edgecolors == str('face'):\n"
     ]
    },
    {
     "data": {
      "image/png": "[encoded data removed]",
      "text/plain": [
       "<matplotlib.figure.Figure at 0x226b940b8>"
      ]
     },
     "metadata": {},
     "output_type": "display_data"
    }
   ],
   "source": [
    "#sns.violinplot(x=\"embark_town\", y=\"age\", data=titanic)\n",
    "sns.violinplot(x=\"embark_town\", y=\"age\", split=True, data=titanic)"
   ]
  },
  {
   "cell_type": "markdown",
   "metadata": {},
   "source": [
    "Go back and clean up the violinplot by adding `split='True'` parameter. "
   ]
  },
  {
   "cell_type": "markdown",
   "metadata": {},
   "source": [
    "Now take a few seconds to look at the graphs you've created of this data. What are some observations? Jot a couple down here."
   ]
  },
  {
   "cell_type": "markdown",
   "metadata": {},
   "source": [
    "All of the graphs show a spread along the 20-40 age group, which implies a lot of the survivors on the titanic were in this age group. The spread of the graphs represents the density of the points in that region. In the scatter plot for Queenstown, we see a very sparsely populated plot, which can also be seen in the thinning of the Queenstown violin plot. "
   ]
  },
  {
   "cell_type": "markdown",
   "metadata": {},
   "source": [
    "As I mentioned, data is categorical or numeric. We already started getting into numerical data with the swarmplot and violinplot. We will now explore a couple more examples."
   ]
  },
  {
   "cell_type": "markdown",
   "metadata": {},
   "source": [
    "Let's look at the distribution of ages. Use [`displot`](https://seaborn.pydata.org/generated/seaborn.distplot.html) to make a histogram of just the ages."
   ]
  },
  {
   "cell_type": "code",
   "execution_count": 44,
   "metadata": {
    "collapsed": false
   },
   "outputs": [
    {
     "name": "stderr",
     "output_type": "stream",
     "text": [
      "/Users/Aakarsh/anaconda3/lib/python3.4/site-packages/statsmodels/nonparametric/kdetools.py:20: VisibleDeprecationWarning: using a non-integer number instead of an integer will result in an error in the future\n",
      "  y = X[:m/2+1] + np.r_[0,X[m/2+1:],0]*1j\n"
     ]
    },
    {
     "data": {
      "text/plain": [
       "<matplotlib.axes._subplots.AxesSubplot at 0x226abfda0>"
      ]
     },
     "execution_count": 44,
     "metadata": {},
     "output_type": "execute_result"
    },
    {
     "data": {
      "image/png": "[encoded data removed]",
      "text/plain": [
       "<matplotlib.figure.Figure at 0x226bbea90>"
      ]
     },
     "metadata": {},
     "output_type": "display_data"
    }
   ],
   "source": [
    "sns.distplot(titanic.age)"
   ]
  },
  {
   "cell_type": "markdown",
   "metadata": {},
   "source": [
    "A histogram can nicely represent numerical data by breaking up numerical ranges into chunks so that it is easier to visualize. As you might notice, seaborn also automatically plots a gaussian kernel density estimate."
   ]
  },
  {
   "cell_type": "markdown",
   "metadata": {},
   "source": [
    "Do the same thing for fares - do you notice something odd about that histogram? What does that skew mean?"
   ]
  },
  {
   "cell_type": "code",
   "execution_count": 45,
   "metadata": {
    "collapsed": false
   },
   "outputs": [
    {
     "name": "stderr",
     "output_type": "stream",
     "text": [
      "/Users/Aakarsh/anaconda3/lib/python3.4/site-packages/statsmodels/nonparametric/kdetools.py:20: VisibleDeprecationWarning: using a non-integer number instead of an integer will result in an error in the future\n",
      "  y = X[:m/2+1] + np.r_[0,X[m/2+1:],0]*1j\n"
     ]
    },
    {
     "data": {
      "text/plain": [
       "<matplotlib.axes._subplots.AxesSubplot at 0x226b11cc0>"
      ]
     },
     "execution_count": 45,
     "metadata": {},
     "output_type": "execute_result"
    },
    {
     "data": {
      "image/png": "[encoded data removed]",
      "text/plain": [
       "<matplotlib.figure.Figure at 0x226bbeda0>"
      ]
     },
     "metadata": {},
     "output_type": "display_data"
    }
   ],
   "source": [
    "sns.distplot(titanic.fare)"
   ]
  },
  {
   "cell_type": "markdown",
   "metadata": {},
   "source": [
    "Now, using the [`jointplot`](https://seaborn.pydata.org/generated/seaborn.jointplot.html#seaborn.jointplot) function, make a scatterplot of the `age` and `fare` variables to see if there is any relationship between the two."
   ]
  },
  {
   "cell_type": "code",
   "execution_count": 46,
   "metadata": {
    "collapsed": false
   },
   "outputs": [
    {
     "data": {
      "text/plain": [
       "<seaborn.axisgrid.JointGrid at 0x14a0e4080>"
      ]
     },
     "execution_count": 46,
     "metadata": {},
     "output_type": "execute_result"
    },
    {
     "name": "stderr",
     "output_type": "stream",
     "text": [
      "/Users/Aakarsh/anaconda3/lib/python3.4/site-packages/matplotlib/collections.py:590: FutureWarning: elementwise comparison failed; returning scalar instead, but in the future will perform elementwise comparison\n",
      "  if self._edgecolors == str('face'):\n"
     ]
    },
    {
     "data": {
      "image/png": "[encoded data removed]",
      "text/plain": [
       "<matplotlib.figure.Figure at 0x14a0e4828>"
      ]
     },
     "metadata": {},
     "output_type": "display_data"
    }
   ],
   "source": [
    "sns.jointplot(titanic.age, titanic.fare)"
   ]
  },
  {
   "cell_type": "markdown",
   "metadata": {},
   "source": [
    "Scatterplots allow one to easily see trends/coorelations in data. As you can see here, there seems to be very little correlation. Also observe that seaborn automatically plots histograms."
   ]
  },
  {
   "cell_type": "markdown",
   "metadata": {},
   "source": [
    "## Diving into a familiar dataset"
   ]
  },
  {
   "cell_type": "markdown",
   "metadata": {},
   "source": [
    "Now you hopefully have a pretty good understanding of both seaborn and matplotlib. You will now apply your learned skills to a familiar dataset, the 2016 election contributions. Navigate [here](http://classic.fec.gov/disclosurep/PDownload.do) and download ALL.zip. "
   ]
  },
  {
   "cell_type": "markdown",
   "metadata": {},
   "source": [
    "There will be no hand-holding in this section. You know how to import a dataset, pull out and clean the values you need, and then plot it. You will follow this whole pipeline yourself. "
   ]
  },
  {
   "cell_type": "markdown",
   "metadata": {},
   "source": [
    "Please plot 2 graphs:\n",
    "* the first graph should show the *cumulative* contributions for the candidate of your choice\n",
    "* the second graph should be a histogram of the contributions (not cumulative), with a bin for each month"
   ]
  },
  {
   "cell_type": "markdown",
   "metadata": {},
   "source": [
    "You may use whatever outside libraries you wish. The [`tsplot`](http://seaborn.pydata.org/generated/seaborn.tsplot.html) and [`distplot`](http://seaborn.pydata.org/generated/seaborn.distplot.html) from seaborn might be useful. The [`hist`](https://matplotlib.org/devdocs/api/_as_gen/matplotlib.pyplot.hist.html) from matplotlib and [`cumsum`](https://docs.scipy.org/doc/numpy/reference/generated/numpy.cumsum.html) from numpy may also be useful."
   ]
  },
  {
   "cell_type": "code",
   "execution_count": 17,
   "metadata": {
    "collapsed": false
   },
   "outputs": [],
   "source": [
    "import datetime as dt\n",
    "import matplotlib.pyplot as plt\n",
    "from collections import defaultdict\n",
    "import matplotlib.dates as mdates"
   ]
  },
  {
   "cell_type": "code",
   "execution_count": 18,
   "metadata": {
    "collapsed": false
   },
   "outputs": [
    {
     "name": "stderr",
     "output_type": "stream",
     "text": [
      "/Users/Aakarsh/anaconda3/lib/python3.4/site-packages/IPython/core/interactiveshell.py:2871: DtypeWarning: Columns (6,11,12,13) have mixed types. Specify dtype option on import or set low_memory=False.\n",
      "  interactivity=interactivity, compiler=compiler, result=result)\n"
     ]
    }
   ],
   "source": [
    "contributions = pd.read_csv('2016-donations.csv', index_col=False)"
   ]
  },
  {
   "cell_type": "code",
   "execution_count": 19,
   "metadata": {
    "collapsed": false
   },
   "outputs": [
    {
     "data": {
      "text/html": [
       "<div>\n",
       "<table border=\"1\" class=\"dataframe\">\n",
       "  <thead>\n",
       "    <tr style=\"text-align: right;\">\n",
       "      <th></th>\n",
       "      <th>cand_nm</th>\n",
       "      <th>contb_receipt_dt</th>\n",
       "      <th>contb_receipt_amt</th>\n",
       "    </tr>\n",
       "  </thead>\n",
       "  <tbody>\n",
       "    <tr>\n",
       "      <th>6588686</th>\n",
       "      <td>Trump, Donald J.</td>\n",
       "      <td>08-MAY-16</td>\n",
       "      <td>100.00</td>\n",
       "    </tr>\n",
       "    <tr>\n",
       "      <th>6588687</th>\n",
       "      <td>Trump, Donald J.</td>\n",
       "      <td>10-MAR-16</td>\n",
       "      <td>48.75</td>\n",
       "    </tr>\n",
       "    <tr>\n",
       "      <th>6588688</th>\n",
       "      <td>Trump, Donald J.</td>\n",
       "      <td>03-MAR-16</td>\n",
       "      <td>300.00</td>\n",
       "    </tr>\n",
       "    <tr>\n",
       "      <th>6588689</th>\n",
       "      <td>Trump, Donald J.</td>\n",
       "      <td>11-JUL-16</td>\n",
       "      <td>28.00</td>\n",
       "    </tr>\n",
       "    <tr>\n",
       "      <th>6588690</th>\n",
       "      <td>Trump, Donald J.</td>\n",
       "      <td>25-NOV-16</td>\n",
       "      <td>100.25</td>\n",
       "    </tr>\n",
       "    <tr>\n",
       "      <th>6588691</th>\n",
       "      <td>Trump, Donald J.</td>\n",
       "      <td>27-NOV-16</td>\n",
       "      <td>89.07</td>\n",
       "    </tr>\n",
       "    <tr>\n",
       "      <th>6588692</th>\n",
       "      <td>Trump, Donald J.</td>\n",
       "      <td>12-NOV-16</td>\n",
       "      <td>164.61</td>\n",
       "    </tr>\n",
       "    <tr>\n",
       "      <th>6588693</th>\n",
       "      <td>Trump, Donald J.</td>\n",
       "      <td>25-NOV-16</td>\n",
       "      <td>124.91</td>\n",
       "    </tr>\n",
       "    <tr>\n",
       "      <th>6588694</th>\n",
       "      <td>Trump, Donald J.</td>\n",
       "      <td>19-JUL-16</td>\n",
       "      <td>80.00</td>\n",
       "    </tr>\n",
       "    <tr>\n",
       "      <th>6588695</th>\n",
       "      <td>Trump, Donald J.</td>\n",
       "      <td>19-JUL-16</td>\n",
       "      <td>40.00</td>\n",
       "    </tr>\n",
       "    <tr>\n",
       "      <th>6588696</th>\n",
       "      <td>Trump, Donald J.</td>\n",
       "      <td>29-OCT-16</td>\n",
       "      <td>91.18</td>\n",
       "    </tr>\n",
       "    <tr>\n",
       "      <th>6588697</th>\n",
       "      <td>Trump, Donald J.</td>\n",
       "      <td>15-NOV-16</td>\n",
       "      <td>100.37</td>\n",
       "    </tr>\n",
       "    <tr>\n",
       "      <th>6588698</th>\n",
       "      <td>Trump, Donald J.</td>\n",
       "      <td>21-JUL-16</td>\n",
       "      <td>40.00</td>\n",
       "    </tr>\n",
       "    <tr>\n",
       "      <th>6588699</th>\n",
       "      <td>Trump, Donald J.</td>\n",
       "      <td>24-NOV-16</td>\n",
       "      <td>244.11</td>\n",
       "    </tr>\n",
       "    <tr>\n",
       "      <th>6588700</th>\n",
       "      <td>Trump, Donald J.</td>\n",
       "      <td>19-JUL-16</td>\n",
       "      <td>200.00</td>\n",
       "    </tr>\n",
       "    <tr>\n",
       "      <th>6588701</th>\n",
       "      <td>Trump, Donald J.</td>\n",
       "      <td>28-SEP-16</td>\n",
       "      <td>2700.00</td>\n",
       "    </tr>\n",
       "    <tr>\n",
       "      <th>6588702</th>\n",
       "      <td>Trump, Donald J.</td>\n",
       "      <td>19-JUL-16</td>\n",
       "      <td>40.00</td>\n",
       "    </tr>\n",
       "    <tr>\n",
       "      <th>6588703</th>\n",
       "      <td>Trump, Donald J.</td>\n",
       "      <td>19-OCT-16</td>\n",
       "      <td>-414.75</td>\n",
       "    </tr>\n",
       "    <tr>\n",
       "      <th>6588704</th>\n",
       "      <td>Trump, Donald J.</td>\n",
       "      <td>24-OCT-16</td>\n",
       "      <td>300.00</td>\n",
       "    </tr>\n",
       "    <tr>\n",
       "      <th>6588705</th>\n",
       "      <td>Trump, Donald J.</td>\n",
       "      <td>07-SEP-16</td>\n",
       "      <td>87.72</td>\n",
       "    </tr>\n",
       "    <tr>\n",
       "      <th>6588706</th>\n",
       "      <td>Trump, Donald J.</td>\n",
       "      <td>02-SEP-16</td>\n",
       "      <td>103.18</td>\n",
       "    </tr>\n",
       "    <tr>\n",
       "      <th>6588707</th>\n",
       "      <td>Trump, Donald J.</td>\n",
       "      <td>01-NOV-16</td>\n",
       "      <td>185.54</td>\n",
       "    </tr>\n",
       "    <tr>\n",
       "      <th>6588708</th>\n",
       "      <td>Trump, Donald J.</td>\n",
       "      <td>11-MAY-16</td>\n",
       "      <td>-414.75</td>\n",
       "    </tr>\n",
       "    <tr>\n",
       "      <th>6588709</th>\n",
       "      <td>Trump, Donald J.</td>\n",
       "      <td>17-MAR-16</td>\n",
       "      <td>50.00</td>\n",
       "    </tr>\n",
       "    <tr>\n",
       "      <th>6588710</th>\n",
       "      <td>Trump, Donald J.</td>\n",
       "      <td>08-MAY-16</td>\n",
       "      <td>250.00</td>\n",
       "    </tr>\n",
       "    <tr>\n",
       "      <th>6588711</th>\n",
       "      <td>Trump, Donald J.</td>\n",
       "      <td>20-OCT-16</td>\n",
       "      <td>114.61</td>\n",
       "    </tr>\n",
       "    <tr>\n",
       "      <th>6588712</th>\n",
       "      <td>Trump, Donald J.</td>\n",
       "      <td>03-OCT-16</td>\n",
       "      <td>200.00</td>\n",
       "    </tr>\n",
       "    <tr>\n",
       "      <th>6588713</th>\n",
       "      <td>Trump, Donald J.</td>\n",
       "      <td>10-APR-16</td>\n",
       "      <td>58.60</td>\n",
       "    </tr>\n",
       "    <tr>\n",
       "      <th>6588714</th>\n",
       "      <td>Trump, Donald J.</td>\n",
       "      <td>17-APR-16</td>\n",
       "      <td>225.00</td>\n",
       "    </tr>\n",
       "    <tr>\n",
       "      <th>6588715</th>\n",
       "      <td>Trump, Donald J.</td>\n",
       "      <td>22-JUN-16</td>\n",
       "      <td>250.00</td>\n",
       "    </tr>\n",
       "    <tr>\n",
       "      <th>...</th>\n",
       "      <td>...</td>\n",
       "      <td>...</td>\n",
       "      <td>...</td>\n",
       "    </tr>\n",
       "    <tr>\n",
       "      <th>7371367</th>\n",
       "      <td>Trump, Donald J.</td>\n",
       "      <td>23-SEP-16</td>\n",
       "      <td>2000.00</td>\n",
       "    </tr>\n",
       "    <tr>\n",
       "      <th>7371368</th>\n",
       "      <td>Trump, Donald J.</td>\n",
       "      <td>16-SEP-16</td>\n",
       "      <td>200.00</td>\n",
       "    </tr>\n",
       "    <tr>\n",
       "      <th>7371369</th>\n",
       "      <td>Trump, Donald J.</td>\n",
       "      <td>23-SEP-16</td>\n",
       "      <td>320.00</td>\n",
       "    </tr>\n",
       "    <tr>\n",
       "      <th>7371370</th>\n",
       "      <td>Trump, Donald J.</td>\n",
       "      <td>20-SEP-16</td>\n",
       "      <td>400.00</td>\n",
       "    </tr>\n",
       "    <tr>\n",
       "      <th>7371371</th>\n",
       "      <td>Trump, Donald J.</td>\n",
       "      <td>27-SEP-16</td>\n",
       "      <td>200.00</td>\n",
       "    </tr>\n",
       "    <tr>\n",
       "      <th>7371372</th>\n",
       "      <td>Trump, Donald J.</td>\n",
       "      <td>23-SEP-16</td>\n",
       "      <td>200.00</td>\n",
       "    </tr>\n",
       "    <tr>\n",
       "      <th>7371373</th>\n",
       "      <td>Trump, Donald J.</td>\n",
       "      <td>28-SEP-16</td>\n",
       "      <td>800.00</td>\n",
       "    </tr>\n",
       "    <tr>\n",
       "      <th>7371374</th>\n",
       "      <td>Trump, Donald J.</td>\n",
       "      <td>20-SEP-16</td>\n",
       "      <td>200.00</td>\n",
       "    </tr>\n",
       "    <tr>\n",
       "      <th>7371375</th>\n",
       "      <td>Trump, Donald J.</td>\n",
       "      <td>18-SEP-16</td>\n",
       "      <td>400.00</td>\n",
       "    </tr>\n",
       "    <tr>\n",
       "      <th>7371376</th>\n",
       "      <td>Trump, Donald J.</td>\n",
       "      <td>23-SEP-16</td>\n",
       "      <td>200.00</td>\n",
       "    </tr>\n",
       "    <tr>\n",
       "      <th>7371377</th>\n",
       "      <td>Trump, Donald J.</td>\n",
       "      <td>26-SEP-16</td>\n",
       "      <td>800.00</td>\n",
       "    </tr>\n",
       "    <tr>\n",
       "      <th>7371378</th>\n",
       "      <td>Trump, Donald J.</td>\n",
       "      <td>29-SEP-16</td>\n",
       "      <td>240.00</td>\n",
       "    </tr>\n",
       "    <tr>\n",
       "      <th>7371379</th>\n",
       "      <td>Trump, Donald J.</td>\n",
       "      <td>22-SEP-16</td>\n",
       "      <td>200.00</td>\n",
       "    </tr>\n",
       "    <tr>\n",
       "      <th>7371380</th>\n",
       "      <td>Trump, Donald J.</td>\n",
       "      <td>27-SEP-16</td>\n",
       "      <td>2700.00</td>\n",
       "    </tr>\n",
       "    <tr>\n",
       "      <th>7371381</th>\n",
       "      <td>Trump, Donald J.</td>\n",
       "      <td>26-SEP-16</td>\n",
       "      <td>800.00</td>\n",
       "    </tr>\n",
       "    <tr>\n",
       "      <th>7371382</th>\n",
       "      <td>Trump, Donald J.</td>\n",
       "      <td>29-SEP-16</td>\n",
       "      <td>400.00</td>\n",
       "    </tr>\n",
       "    <tr>\n",
       "      <th>7371383</th>\n",
       "      <td>Trump, Donald J.</td>\n",
       "      <td>19-SEP-16</td>\n",
       "      <td>240.00</td>\n",
       "    </tr>\n",
       "    <tr>\n",
       "      <th>7371384</th>\n",
       "      <td>Trump, Donald J.</td>\n",
       "      <td>19-SEP-16</td>\n",
       "      <td>800.00</td>\n",
       "    </tr>\n",
       "    <tr>\n",
       "      <th>7371385</th>\n",
       "      <td>Trump, Donald J.</td>\n",
       "      <td>06-JUN-16</td>\n",
       "      <td>-70.00</td>\n",
       "    </tr>\n",
       "    <tr>\n",
       "      <th>7371386</th>\n",
       "      <td>Trump, Donald J.</td>\n",
       "      <td>23-JUN-16</td>\n",
       "      <td>1000.00</td>\n",
       "    </tr>\n",
       "    <tr>\n",
       "      <th>7371387</th>\n",
       "      <td>Trump, Donald J.</td>\n",
       "      <td>06-JUN-16</td>\n",
       "      <td>-10.00</td>\n",
       "    </tr>\n",
       "    <tr>\n",
       "      <th>7371388</th>\n",
       "      <td>Trump, Donald J.</td>\n",
       "      <td>22-JUN-16</td>\n",
       "      <td>250.00</td>\n",
       "    </tr>\n",
       "    <tr>\n",
       "      <th>7371389</th>\n",
       "      <td>Trump, Donald J.</td>\n",
       "      <td>10-NOV-16</td>\n",
       "      <td>151.79</td>\n",
       "    </tr>\n",
       "    <tr>\n",
       "      <th>7371390</th>\n",
       "      <td>Trump, Donald J.</td>\n",
       "      <td>11-SEP-16</td>\n",
       "      <td>144.37</td>\n",
       "    </tr>\n",
       "    <tr>\n",
       "      <th>7371391</th>\n",
       "      <td>Trump, Donald J.</td>\n",
       "      <td>16-JAN-16</td>\n",
       "      <td>250.00</td>\n",
       "    </tr>\n",
       "    <tr>\n",
       "      <th>7371392</th>\n",
       "      <td>Trump, Donald J.</td>\n",
       "      <td>02-JUN-16</td>\n",
       "      <td>50.00</td>\n",
       "    </tr>\n",
       "    <tr>\n",
       "      <th>7371393</th>\n",
       "      <td>Trump, Donald J.</td>\n",
       "      <td>16-JUN-16</td>\n",
       "      <td>25.00</td>\n",
       "    </tr>\n",
       "    <tr>\n",
       "      <th>7371394</th>\n",
       "      <td>Trump, Donald J.</td>\n",
       "      <td>27-MAY-16</td>\n",
       "      <td>250.00</td>\n",
       "    </tr>\n",
       "    <tr>\n",
       "      <th>7371395</th>\n",
       "      <td>Trump, Donald J.</td>\n",
       "      <td>19-SEP-16</td>\n",
       "      <td>200.00</td>\n",
       "    </tr>\n",
       "    <tr>\n",
       "      <th>7371396</th>\n",
       "      <td>Trump, Donald J.</td>\n",
       "      <td>19-SEP-16</td>\n",
       "      <td>400.00</td>\n",
       "    </tr>\n",
       "  </tbody>\n",
       "</table>\n",
       "<p>782711 rows × 3 columns</p>\n",
       "</div>"
      ],
      "text/plain": [
       "                  cand_nm contb_receipt_dt  contb_receipt_amt\n",
       "6588686  Trump, Donald J.        08-MAY-16             100.00\n",
       "6588687  Trump, Donald J.        10-MAR-16              48.75\n",
       "6588688  Trump, Donald J.        03-MAR-16             300.00\n",
       "6588689  Trump, Donald J.        11-JUL-16              28.00\n",
       "6588690  Trump, Donald J.        25-NOV-16             100.25\n",
       "6588691  Trump, Donald J.        27-NOV-16              89.07\n",
       "6588692  Trump, Donald J.        12-NOV-16             164.61\n",
       "6588693  Trump, Donald J.        25-NOV-16             124.91\n",
       "6588694  Trump, Donald J.        19-JUL-16              80.00\n",
       "6588695  Trump, Donald J.        19-JUL-16              40.00\n",
       "6588696  Trump, Donald J.        29-OCT-16              91.18\n",
       "6588697  Trump, Donald J.        15-NOV-16             100.37\n",
       "6588698  Trump, Donald J.        21-JUL-16              40.00\n",
       "6588699  Trump, Donald J.        24-NOV-16             244.11\n",
       "6588700  Trump, Donald J.        19-JUL-16             200.00\n",
       "6588701  Trump, Donald J.        28-SEP-16            2700.00\n",
       "6588702  Trump, Donald J.        19-JUL-16              40.00\n",
       "6588703  Trump, Donald J.        19-OCT-16            -414.75\n",
       "6588704  Trump, Donald J.        24-OCT-16             300.00\n",
       "6588705  Trump, Donald J.        07-SEP-16              87.72\n",
       "6588706  Trump, Donald J.        02-SEP-16             103.18\n",
       "6588707  Trump, Donald J.        01-NOV-16             185.54\n",
       "6588708  Trump, Donald J.        11-MAY-16            -414.75\n",
       "6588709  Trump, Donald J.        17-MAR-16              50.00\n",
       "6588710  Trump, Donald J.        08-MAY-16             250.00\n",
       "6588711  Trump, Donald J.        20-OCT-16             114.61\n",
       "6588712  Trump, Donald J.        03-OCT-16             200.00\n",
       "6588713  Trump, Donald J.        10-APR-16              58.60\n",
       "6588714  Trump, Donald J.        17-APR-16             225.00\n",
       "6588715  Trump, Donald J.        22-JUN-16             250.00\n",
       "...                   ...              ...                ...\n",
       "7371367  Trump, Donald J.        23-SEP-16            2000.00\n",
       "7371368  Trump, Donald J.        16-SEP-16             200.00\n",
       "7371369  Trump, Donald J.        23-SEP-16             320.00\n",
       "7371370  Trump, Donald J.        20-SEP-16             400.00\n",
       "7371371  Trump, Donald J.        27-SEP-16             200.00\n",
       "7371372  Trump, Donald J.        23-SEP-16             200.00\n",
       "7371373  Trump, Donald J.        28-SEP-16             800.00\n",
       "7371374  Trump, Donald J.        20-SEP-16             200.00\n",
       "7371375  Trump, Donald J.        18-SEP-16             400.00\n",
       "7371376  Trump, Donald J.        23-SEP-16             200.00\n",
       "7371377  Trump, Donald J.        26-SEP-16             800.00\n",
       "7371378  Trump, Donald J.        29-SEP-16             240.00\n",
       "7371379  Trump, Donald J.        22-SEP-16             200.00\n",
       "7371380  Trump, Donald J.        27-SEP-16            2700.00\n",
       "7371381  Trump, Donald J.        26-SEP-16             800.00\n",
       "7371382  Trump, Donald J.        29-SEP-16             400.00\n",
       "7371383  Trump, Donald J.        19-SEP-16             240.00\n",
       "7371384  Trump, Donald J.        19-SEP-16             800.00\n",
       "7371385  Trump, Donald J.        06-JUN-16             -70.00\n",
       "7371386  Trump, Donald J.        23-JUN-16            1000.00\n",
       "7371387  Trump, Donald J.        06-JUN-16             -10.00\n",
       "7371388  Trump, Donald J.        22-JUN-16             250.00\n",
       "7371389  Trump, Donald J.        10-NOV-16             151.79\n",
       "7371390  Trump, Donald J.        11-SEP-16             144.37\n",
       "7371391  Trump, Donald J.        16-JAN-16             250.00\n",
       "7371392  Trump, Donald J.        02-JUN-16              50.00\n",
       "7371393  Trump, Donald J.        16-JUN-16              25.00\n",
       "7371394  Trump, Donald J.        27-MAY-16             250.00\n",
       "7371395  Trump, Donald J.        19-SEP-16             200.00\n",
       "7371396  Trump, Donald J.        19-SEP-16             400.00\n",
       "\n",
       "[782711 rows x 3 columns]"
      ]
     },
     "execution_count": 19,
     "metadata": {},
     "output_type": "execute_result"
    }
   ],
   "source": [
    "trump_conts = contributions[contributions.cand_nm == 'Trump, Donald J.']\n",
    "trump_conts_clean = trump_conts[['cand_nm', 'contb_receipt_dt', 'contb_receipt_amt']]\n",
    "trump_conts_clean"
   ]
  },
  {
   "cell_type": "code",
   "execution_count": 27,
   "metadata": {
    "collapsed": true
   },
   "outputs": [],
   "source": [
    "def to_donation_xy_points(a):\n",
    "    donations_dict = defaultdict(lambda:0)\n",
    "    for index, row in a.iterrows():\n",
    "        date = dt.datetime.strptime(row.contb_receipt_dt, '%d-%b-%y')\n",
    "        donations_dict[date] += row.contb_receipt_amt\n",
    "    sorted_by_date = sorted(donations_dict.items())\n",
    "    return zip(*sorted_by_date)"
   ]
  }
 ],
 "metadata": {
  "anaconda-cloud": {},
  "kernelspec": {
   "display_name": "Python [conda env:universe]",
   "language": "python",
   "name": "conda-env-universe-py"
  },
  "language_info": {
   "codemirror_mode": {
    "name": "ipython",
    "version": 3
   },
   "file_extension": ".py",
   "mimetype": "text/x-python",
   "name": "python",
   "nbconvert_exporter": "python",
   "pygments_lexer": "ipython3",
   "version": "3.5.3"
  }
 },
 "nbformat": 4,
 "nbformat_minor": 2
}
